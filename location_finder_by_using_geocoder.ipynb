{
  "nbformat": 4,
  "nbformat_minor": 0,
  "metadata": {
    "colab": {
      "provenance": [],
      "authorship_tag": "ABX9TyMX0KAzjXU3628dIkHVZvFG",
      "include_colab_link": true
    },
    "kernelspec": {
      "name": "python3",
      "display_name": "Python 3"
    },
    "language_info": {
      "name": "python"
    }
  },
  "cells": [
    {
      "cell_type": "markdown",
      "metadata": {
        "id": "view-in-github",
        "colab_type": "text"
      },
      "source": [
        "<a href=\"https://colab.research.google.com/github/Kishankumar1328/geocoder/blob/main/location_finder_by_using_geocoder.ipynb\" target=\"_parent\"><img src=\"https://colab.research.google.com/assets/colab-badge.svg\" alt=\"Open In Colab\"/></a>"
      ]
    },
    {
      "cell_type": "code",
      "execution_count": null,
      "metadata": {
        "id": "i9scWDveNwrB"
      },
      "outputs": [],
      "source": [
        "import phonenumbers\n",
        "from phonenumbers import geocoder"
      ]
    },
    {
      "cell_type": "code",
      "source": [
        "phone_number_1=phonenumbers.parse(\"give your number here\")\n",
        "phone_number_2=phonenumbers.parse(\"give your number here\")\n"
      ],
      "metadata": {
        "id": "ZVfo_urlOLgZ"
      },
      "execution_count": null,
      "outputs": []
    },
    {
      "cell_type": "code",
      "source": [
        "print(geocoder.description_for_number(phone_number_1,\"en\"))\n",
        "print(geocoder.description_for_number(phone_number_2,\"en\"))"
      ],
      "metadata": {
        "colab": {
          "base_uri": "https://localhost:8080/"
        },
        "id": "GjYz_HYFPMAs",
        "outputId": "e051e526-0899-4529-d5bc-24396ffc04bf"
      },
      "execution_count": null,
      "outputs": [
        {
          "output_type": "stream",
          "name": "stdout",
          "text": [
            "India\n",
            "India\n"
          ]
        }
      ]
    }
  ]
}